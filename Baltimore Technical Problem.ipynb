{
 "cells": [
  {
   "cell_type": "code",
   "execution_count": 1,
   "metadata": {},
   "outputs": [
    {
     "name": "stderr",
     "output_type": "stream",
     "text": [
      "C:\\Users\\kashi\\anaconda3\\lib\\site-packages\\pandas\\core\\computation\\expressions.py:20: UserWarning: Pandas requires version '2.7.3' or newer of 'numexpr' (version '2.7.1' currently installed).\n",
      "  from pandas.core.computation.check import NUMEXPR_INSTALLED\n"
     ]
    }
   ],
   "source": [
    "import pandas as pd\n",
    "import matplotlib as plt\n",
    "import numpy as np\n"
   ]
  },
  {
   "cell_type": "code",
   "execution_count": 2,
   "metadata": {},
   "outputs": [
    {
     "data": {
      "text/html": [
       "<div>\n",
       "<style scoped>\n",
       "    .dataframe tbody tr th:only-of-type {\n",
       "        vertical-align: middle;\n",
       "    }\n",
       "\n",
       "    .dataframe tbody tr th {\n",
       "        vertical-align: top;\n",
       "    }\n",
       "\n",
       "    .dataframe thead th {\n",
       "        text-align: right;\n",
       "    }\n",
       "</style>\n",
       "<table border=\"1\" class=\"dataframe\">\n",
       "  <thead>\n",
       "    <tr style=\"text-align: right;\">\n",
       "      <th></th>\n",
       "      <th>Service Request Number</th>\n",
       "      <th>SR Type</th>\n",
       "      <th>Agency</th>\n",
       "      <th>Created Date</th>\n",
       "      <th>SR Status</th>\n",
       "      <th>Due Date</th>\n",
       "      <th>Close Date</th>\n",
       "      <th>Street Address</th>\n",
       "      <th>Neighborhood</th>\n",
       "      <th>Latitude</th>\n",
       "      <th>Longitude</th>\n",
       "      <th>geo_sw_quad</th>\n",
       "    </tr>\n",
       "  </thead>\n",
       "  <tbody>\n",
       "    <tr>\n",
       "      <th>0</th>\n",
       "      <td>17-00007827</td>\n",
       "      <td>SW-Cleaning</td>\n",
       "      <td>Solid Waste                                   ...</td>\n",
       "      <td>1/5/2017</td>\n",
       "      <td>Closed</td>\n",
       "      <td>2/4/2017</td>\n",
       "      <td>1/24/2017</td>\n",
       "      <td>3539S ADDISON ST</td>\n",
       "      <td>NaN</td>\n",
       "      <td>NaN</td>\n",
       "      <td>NaN</td>\n",
       "      <td>NaN</td>\n",
       "    </tr>\n",
       "    <tr>\n",
       "      <th>1</th>\n",
       "      <td>17-00007830</td>\n",
       "      <td>SW-Cleaning</td>\n",
       "      <td>Solid Waste                                   ...</td>\n",
       "      <td>1/5/2017</td>\n",
       "      <td>Closed</td>\n",
       "      <td>2/4/2017</td>\n",
       "      <td>1/13/2017</td>\n",
       "      <td>2573W LAFAYETTE AVE</td>\n",
       "      <td>NaN</td>\n",
       "      <td>NaN</td>\n",
       "      <td>NaN</td>\n",
       "      <td>NaN</td>\n",
       "    </tr>\n",
       "    <tr>\n",
       "      <th>2</th>\n",
       "      <td>17-00007831</td>\n",
       "      <td>SW-Boarding</td>\n",
       "      <td>Solid Waste                                   ...</td>\n",
       "      <td>1/5/2017</td>\n",
       "      <td>Closed</td>\n",
       "      <td>1/12/2017</td>\n",
       "      <td>1/13/2017</td>\n",
       "      <td>2573W LAFAYETTE AVE</td>\n",
       "      <td>NaN</td>\n",
       "      <td>NaN</td>\n",
       "      <td>NaN</td>\n",
       "      <td>NaN</td>\n",
       "    </tr>\n",
       "    <tr>\n",
       "      <th>3</th>\n",
       "      <td>17-00047167</td>\n",
       "      <td>SW-Cleaning</td>\n",
       "      <td>Solid Waste                                   ...</td>\n",
       "      <td>1/24/2017</td>\n",
       "      <td>Closed</td>\n",
       "      <td>2/23/2017</td>\n",
       "      <td>1/30/2017</td>\n",
       "      <td>1115N BRADFORD ST</td>\n",
       "      <td>NaN</td>\n",
       "      <td>NaN</td>\n",
       "      <td>NaN</td>\n",
       "      <td>NaN</td>\n",
       "    </tr>\n",
       "    <tr>\n",
       "      <th>4</th>\n",
       "      <td>17-00010780</td>\n",
       "      <td>SW-Cleaning</td>\n",
       "      <td>Solid Waste                                   ...</td>\n",
       "      <td>1/6/2017</td>\n",
       "      <td>Closed</td>\n",
       "      <td>2/5/2017</td>\n",
       "      <td>1/25/2017</td>\n",
       "      <td>1602N BRADFORD ST</td>\n",
       "      <td>NaN</td>\n",
       "      <td>NaN</td>\n",
       "      <td>NaN</td>\n",
       "      <td>NaN</td>\n",
       "    </tr>\n",
       "  </tbody>\n",
       "</table>\n",
       "</div>"
      ],
      "text/plain": [
       "  Service Request Number      SR Type  \\\n",
       "0            17-00007827  SW-Cleaning   \n",
       "1            17-00007830  SW-Cleaning   \n",
       "2            17-00007831  SW-Boarding   \n",
       "3            17-00047167  SW-Cleaning   \n",
       "4            17-00010780  SW-Cleaning   \n",
       "\n",
       "                                              Agency Created Date SR Status  \\\n",
       "0  Solid Waste                                   ...     1/5/2017    Closed   \n",
       "1  Solid Waste                                   ...     1/5/2017    Closed   \n",
       "2  Solid Waste                                   ...     1/5/2017    Closed   \n",
       "3  Solid Waste                                   ...    1/24/2017    Closed   \n",
       "4  Solid Waste                                   ...     1/6/2017    Closed   \n",
       "\n",
       "    Due Date Close Date       Street Address Neighborhood  Latitude  \\\n",
       "0   2/4/2017  1/24/2017     3539S ADDISON ST          NaN       NaN   \n",
       "1   2/4/2017  1/13/2017  2573W LAFAYETTE AVE          NaN       NaN   \n",
       "2  1/12/2017  1/13/2017  2573W LAFAYETTE AVE          NaN       NaN   \n",
       "3  2/23/2017  1/30/2017    1115N BRADFORD ST          NaN       NaN   \n",
       "4   2/5/2017  1/25/2017    1602N BRADFORD ST          NaN       NaN   \n",
       "\n",
       "   Longitude geo_sw_quad  \n",
       "0        NaN         NaN  \n",
       "1        NaN         NaN  \n",
       "2        NaN         NaN  \n",
       "3        NaN         NaN  \n",
       "4        NaN         NaN  "
      ]
     },
     "execution_count": 2,
     "metadata": {},
     "output_type": "execute_result"
    }
   ],
   "source": [
    "df = pd.read_csv(\"C:/Users/kashi/OneDrive/Desktop/waste.csv\")\n",
    "df.dtypes\n",
    "df.head()"
   ]
  },
  {
   "cell_type": "code",
   "execution_count": 3,
   "metadata": {},
   "outputs": [
    {
     "data": {
      "text/html": [
       "<div>\n",
       "<style scoped>\n",
       "    .dataframe tbody tr th:only-of-type {\n",
       "        vertical-align: middle;\n",
       "    }\n",
       "\n",
       "    .dataframe tbody tr th {\n",
       "        vertical-align: top;\n",
       "    }\n",
       "\n",
       "    .dataframe thead th {\n",
       "        text-align: right;\n",
       "    }\n",
       "</style>\n",
       "<table border=\"1\" class=\"dataframe\">\n",
       "  <thead>\n",
       "    <tr style=\"text-align: right;\">\n",
       "      <th></th>\n",
       "      <th>Service Request Number</th>\n",
       "      <th>SR Type</th>\n",
       "      <th>Agency</th>\n",
       "      <th>Created Date</th>\n",
       "      <th>SR Status</th>\n",
       "      <th>Due Date</th>\n",
       "      <th>Close Date</th>\n",
       "      <th>Street Address</th>\n",
       "      <th>Neighborhood</th>\n",
       "      <th>Latitude</th>\n",
       "      <th>Longitude</th>\n",
       "      <th>geo_sw_quad</th>\n",
       "      <th>year</th>\n",
       "    </tr>\n",
       "  </thead>\n",
       "  <tbody>\n",
       "    <tr>\n",
       "      <th>0</th>\n",
       "      <td>17-00007827</td>\n",
       "      <td>SW-Cleaning</td>\n",
       "      <td>Solid Waste                                   ...</td>\n",
       "      <td>2017-01-05</td>\n",
       "      <td>Closed</td>\n",
       "      <td>2017-02-04</td>\n",
       "      <td>2017-01-24</td>\n",
       "      <td>3539S ADDISON ST</td>\n",
       "      <td>NaN</td>\n",
       "      <td>NaN</td>\n",
       "      <td>NaN</td>\n",
       "      <td>NaN</td>\n",
       "      <td>2017</td>\n",
       "    </tr>\n",
       "    <tr>\n",
       "      <th>1</th>\n",
       "      <td>17-00007830</td>\n",
       "      <td>SW-Cleaning</td>\n",
       "      <td>Solid Waste                                   ...</td>\n",
       "      <td>2017-01-05</td>\n",
       "      <td>Closed</td>\n",
       "      <td>2017-02-04</td>\n",
       "      <td>2017-01-13</td>\n",
       "      <td>2573W LAFAYETTE AVE</td>\n",
       "      <td>NaN</td>\n",
       "      <td>NaN</td>\n",
       "      <td>NaN</td>\n",
       "      <td>NaN</td>\n",
       "      <td>2017</td>\n",
       "    </tr>\n",
       "    <tr>\n",
       "      <th>2</th>\n",
       "      <td>17-00007831</td>\n",
       "      <td>SW-Boarding</td>\n",
       "      <td>Solid Waste                                   ...</td>\n",
       "      <td>2017-01-05</td>\n",
       "      <td>Closed</td>\n",
       "      <td>2017-01-12</td>\n",
       "      <td>2017-01-13</td>\n",
       "      <td>2573W LAFAYETTE AVE</td>\n",
       "      <td>NaN</td>\n",
       "      <td>NaN</td>\n",
       "      <td>NaN</td>\n",
       "      <td>NaN</td>\n",
       "      <td>2017</td>\n",
       "    </tr>\n",
       "    <tr>\n",
       "      <th>3</th>\n",
       "      <td>17-00047167</td>\n",
       "      <td>SW-Cleaning</td>\n",
       "      <td>Solid Waste                                   ...</td>\n",
       "      <td>2017-01-24</td>\n",
       "      <td>Closed</td>\n",
       "      <td>2017-02-23</td>\n",
       "      <td>2017-01-30</td>\n",
       "      <td>1115N BRADFORD ST</td>\n",
       "      <td>NaN</td>\n",
       "      <td>NaN</td>\n",
       "      <td>NaN</td>\n",
       "      <td>NaN</td>\n",
       "      <td>2017</td>\n",
       "    </tr>\n",
       "    <tr>\n",
       "      <th>4</th>\n",
       "      <td>17-00010780</td>\n",
       "      <td>SW-Cleaning</td>\n",
       "      <td>Solid Waste                                   ...</td>\n",
       "      <td>2017-01-06</td>\n",
       "      <td>Closed</td>\n",
       "      <td>2017-02-05</td>\n",
       "      <td>2017-01-25</td>\n",
       "      <td>1602N BRADFORD ST</td>\n",
       "      <td>NaN</td>\n",
       "      <td>NaN</td>\n",
       "      <td>NaN</td>\n",
       "      <td>NaN</td>\n",
       "      <td>2017</td>\n",
       "    </tr>\n",
       "  </tbody>\n",
       "</table>\n",
       "</div>"
      ],
      "text/plain": [
       "  Service Request Number      SR Type  \\\n",
       "0            17-00007827  SW-Cleaning   \n",
       "1            17-00007830  SW-Cleaning   \n",
       "2            17-00007831  SW-Boarding   \n",
       "3            17-00047167  SW-Cleaning   \n",
       "4            17-00010780  SW-Cleaning   \n",
       "\n",
       "                                              Agency Created Date SR Status  \\\n",
       "0  Solid Waste                                   ...   2017-01-05    Closed   \n",
       "1  Solid Waste                                   ...   2017-01-05    Closed   \n",
       "2  Solid Waste                                   ...   2017-01-05    Closed   \n",
       "3  Solid Waste                                   ...   2017-01-24    Closed   \n",
       "4  Solid Waste                                   ...   2017-01-06    Closed   \n",
       "\n",
       "    Due Date Close Date       Street Address Neighborhood  Latitude  \\\n",
       "0 2017-02-04 2017-01-24     3539S ADDISON ST          NaN       NaN   \n",
       "1 2017-02-04 2017-01-13  2573W LAFAYETTE AVE          NaN       NaN   \n",
       "2 2017-01-12 2017-01-13  2573W LAFAYETTE AVE          NaN       NaN   \n",
       "3 2017-02-23 2017-01-30    1115N BRADFORD ST          NaN       NaN   \n",
       "4 2017-02-05 2017-01-25    1602N BRADFORD ST          NaN       NaN   \n",
       "\n",
       "   Longitude geo_sw_quad  year  \n",
       "0        NaN         NaN  2017  \n",
       "1        NaN         NaN  2017  \n",
       "2        NaN         NaN  2017  \n",
       "3        NaN         NaN  2017  \n",
       "4        NaN         NaN  2017  "
      ]
     },
     "execution_count": 3,
     "metadata": {},
     "output_type": "execute_result"
    }
   ],
   "source": [
    "df['Created Date'] = pd.to_datetime(df['Created Date'], format = \"%m/%d/%Y\")\n",
    "df['Close Date'] = pd.to_datetime(df['Close Date'], format = \"%m/%d/%Y\")\n",
    "df['Due Date'] = pd.to_datetime(df['Due Date'], format = \"%m/%d/%Y\")\n",
    "df.head()\n",
    "\n",
    "df = df.loc[df['Created Date'].between(\"2017-01-01\", \"2019-12-31\")]\n",
    "df['Created Date'].min()\n",
    "\n",
    "df['year'] = pd.DatetimeIndex(df['Created Date']).year\n",
    "df.head()"
   ]
  },
  {
   "cell_type": "code",
   "execution_count": 4,
   "metadata": {},
   "outputs": [
    {
     "data": {
      "text/plain": [
       "SR Type\n",
       "SW-Boarding                  -0.470303\n",
       "SW-Cleaning                  18.648572\n",
       "SW-Dirty Alley               18.483518\n",
       "SW-Dirty Alley Proactive      0.840384\n",
       "SW-Dirty Street               2.789074\n",
       "SW-Dirty Street Proactive    -6.740791\n",
       "SW-HGW                       39.846550\n",
       "Name: past_due, dtype: float64"
      ]
     },
     "execution_count": 4,
     "metadata": {},
     "output_type": "execute_result"
    }
   ],
   "source": [
    "df['past_due'] =  (df['Close Date'] - df['Due Date']).dt.days\n",
    "df.groupby(['Neighborhood', 'geo_sw_quad'])['past_due'].mean().sort_values(ascending = False).head(10)\n",
    "\n",
    "df.groupby(['SR Type'])['past_due'].mean()"
   ]
  },
  {
   "cell_type": "code",
   "execution_count": 5,
   "metadata": {},
   "outputs": [
    {
     "name": "stdout",
     "output_type": "stream",
     "text": [
      "SR_Type          year\n",
      "SW-Boarding      2017     7445\n",
      "                 2018     9025\n",
      "                 2019     8007\n",
      "SW-Cleaning      2017    10715\n",
      "                 2018    16047\n",
      "                 2019    10395\n",
      "SW-Dirty Alley   2017    24065\n",
      "                 2018    25936\n",
      "                 2019    22117\n",
      "SW-Dirty Street  2017    15212\n",
      "                 2018    15700\n",
      "                 2019    13409\n",
      "SW-HGW           2017    23488\n",
      "                 2018    20327\n",
      "                 2019    19157\n",
      "Name: SR Status, dtype: int64\n"
     ]
    }
   ],
   "source": [
    "df = df[df['SR Status'].str.contains('Duplicate')==False]\n",
    "df = df[df['SR Status'].str.contains('Transfer')==False]\n",
    "df = df[df['SR Type'].str.contains('Proactive')==False]\n",
    "df = df.rename(columns={\"SR Type\": \"SR_Type\"})\n",
    "\n",
    "df_2017 = df.loc[df['Created Date'].between(\"2017-01-01\", \"2017-12-31\")]\n",
    "df_2018 = df.loc[df['Created Date'].between(\"2018-01-01\", \"2018-12-31\")]\n",
    "df_2019 = df.loc[df['Created Date'].between(\"2019-01-01\", \"2019-12-31\")]\n",
    "# Using groupby() and count()\n",
    "\n",
    "print(df.groupby(['SR_Type', 'year'])['SR Status'].count())"
   ]
  },
  {
   "cell_type": "code",
   "execution_count": 6,
   "metadata": {},
   "outputs": [
    {
     "data": {
      "text/plain": [
       "SR_Type          year\n",
       "SW-Boarding      2017     7445\n",
       "                 2019     8007\n",
       "                 2018     9025\n",
       "SW-Cleaning      2019    10395\n",
       "                 2017    10715\n",
       "SW-Dirty Street  2019    13409\n",
       "                 2017    15212\n",
       "                 2018    15700\n",
       "SW-Cleaning      2018    16047\n",
       "SW-HGW           2019    19157\n",
       "                 2018    20327\n",
       "SW-Dirty Alley   2019    22117\n",
       "SW-HGW           2017    23488\n",
       "SW-Dirty Alley   2017    24065\n",
       "                 2018    25936\n",
       "Name: SR Status, dtype: int64"
      ]
     },
     "execution_count": 6,
     "metadata": {},
     "output_type": "execute_result"
    }
   ],
   "source": [
    "services = df.groupby(['SR_Type', 'year'])['SR Status'].count()\n",
    "services = services.sort_values()\n",
    "services"
   ]
  },
  {
   "cell_type": "code",
   "execution_count": 7,
   "metadata": {},
   "outputs": [],
   "source": [
    "import matplotlib.pyplot as plt\n"
   ]
  },
  {
   "cell_type": "code",
   "execution_count": 8,
   "metadata": {},
   "outputs": [
    {
     "data": {
      "text/plain": [
       "(array([0, 1, 2, 3, 4]),\n",
       " [Text(0, 0, 'SW-Boarding'),\n",
       "  Text(1, 0, 'SW-Cleaning'),\n",
       "  Text(2, 0, 'SW-Dirty Alley'),\n",
       "  Text(3, 0, 'SW-Dirty Street'),\n",
       "  Text(4, 0, 'SW-HGW')])"
      ]
     },
     "execution_count": 8,
     "metadata": {},
     "output_type": "execute_result"
    },
    {
     "data": {
      "image/png": "[encoded data removed]",
      "text/plain": [
       "<Figure size 864x432 with 1 Axes>"
      ]
     },
     "metadata": {
      "needs_background": "light"
     },
     "output_type": "display_data"
    }
   ],
   "source": [
    "df.groupby('SR_Type').year.value_counts().unstack().plot.bar(figsize=(12, 6), title='Service Requests by Type',\n",
    "                                                             xlabel='Total Services', ylabel='Service Type')\n",
    "plt.xticks(rotation='horizontal')"
   ]
  },
  {
   "cell_type": "code",
   "execution_count": 9,
   "metadata": {
    "scrolled": false
   },
   "outputs": [
    {
     "data": {
      "text/plain": [
       "Service Request Number       0\n",
       "SR_Type                      0\n",
       "Agency                       0\n",
       "Created Date                 0\n",
       "SR Status                    0\n",
       "Due Date                     0\n",
       "Close Date                   0\n",
       "Street Address               4\n",
       "Neighborhood              2544\n",
       "Latitude                  2212\n",
       "Longitude                 2212\n",
       "geo_sw_quad               2515\n",
       "year                         0\n",
       "past_due                     0\n",
       "dtype: int64"
      ]
     },
     "execution_count": 9,
     "metadata": {},
     "output_type": "execute_result"
    }
   ],
   "source": [
    "df.isna().sum()\n",
    "df = df[df['Close Date'].notna()]\n",
    "df = df[df['Due Date'].notna()]\n",
    "df.isna().sum()"
   ]
  },
  {
   "cell_type": "code",
   "execution_count": 10,
   "metadata": {},
   "outputs": [
    {
     "data": {
      "text/html": [
       "<div>\n",
       "<style scoped>\n",
       "    .dataframe tbody tr th:only-of-type {\n",
       "        vertical-align: middle;\n",
       "    }\n",
       "\n",
       "    .dataframe tbody tr th {\n",
       "        vertical-align: top;\n",
       "    }\n",
       "\n",
       "    .dataframe thead th {\n",
       "        text-align: right;\n",
       "    }\n",
       "</style>\n",
       "<table border=\"1\" class=\"dataframe\">\n",
       "  <thead>\n",
       "    <tr style=\"text-align: right;\">\n",
       "      <th></th>\n",
       "      <th>Service Request Number</th>\n",
       "      <th>SR_Type</th>\n",
       "      <th>Agency</th>\n",
       "      <th>Created Date</th>\n",
       "      <th>SR Status</th>\n",
       "      <th>Due Date</th>\n",
       "      <th>Close Date</th>\n",
       "      <th>Street Address</th>\n",
       "      <th>Neighborhood</th>\n",
       "      <th>Latitude</th>\n",
       "      <th>Longitude</th>\n",
       "      <th>geo_sw_quad</th>\n",
       "      <th>year</th>\n",
       "      <th>past_due</th>\n",
       "      <th>ontime</th>\n",
       "    </tr>\n",
       "  </thead>\n",
       "  <tbody>\n",
       "    <tr>\n",
       "      <th>433409</th>\n",
       "      <td>17-00000389</td>\n",
       "      <td>SW-Dirty Alley</td>\n",
       "      <td>Solid Waste                                   ...</td>\n",
       "      <td>2017-01-01</td>\n",
       "      <td>Closed</td>\n",
       "      <td>2017-01-08</td>\n",
       "      <td>2017-01-03</td>\n",
       "      <td>3000 WOLCOTT AVE, Baltimore City, 21216</td>\n",
       "      <td>Concerned Citizens Of Forest Park</td>\n",
       "      <td>39.32</td>\n",
       "      <td>-76.68</td>\n",
       "      <td>NORTHWEST</td>\n",
       "      <td>2017</td>\n",
       "      <td>-5.0</td>\n",
       "      <td>1</td>\n",
       "    </tr>\n",
       "    <tr>\n",
       "      <th>168701</th>\n",
       "      <td>17-00000161</td>\n",
       "      <td>SW-Dirty Street</td>\n",
       "      <td>Solid Waste                                   ...</td>\n",
       "      <td>2017-01-01</td>\n",
       "      <td>Closed</td>\n",
       "      <td>2017-01-08</td>\n",
       "      <td>2017-01-03</td>\n",
       "      <td>1032 E 36TH ST, Baltimore City, 21218</td>\n",
       "      <td>Ednor Gardens-Lakeside</td>\n",
       "      <td>39.33</td>\n",
       "      <td>-76.60</td>\n",
       "      <td>NORTHEAST</td>\n",
       "      <td>2017</td>\n",
       "      <td>-5.0</td>\n",
       "      <td>1</td>\n",
       "    </tr>\n",
       "    <tr>\n",
       "      <th>208781</th>\n",
       "      <td>17-00000404</td>\n",
       "      <td>SW-Dirty Street</td>\n",
       "      <td>Solid Waste                                   ...</td>\n",
       "      <td>2017-01-01</td>\n",
       "      <td>Closed</td>\n",
       "      <td>2017-01-08</td>\n",
       "      <td>2017-01-03</td>\n",
       "      <td>YORK RD &amp; WOODBOURNE AVE,  BALTIMORE</td>\n",
       "      <td>Mid-Govans</td>\n",
       "      <td>39.36</td>\n",
       "      <td>-76.61</td>\n",
       "      <td>NORTHWEST</td>\n",
       "      <td>2017</td>\n",
       "      <td>-5.0</td>\n",
       "      <td>1</td>\n",
       "    </tr>\n",
       "    <tr>\n",
       "      <th>65957</th>\n",
       "      <td>17-00000230</td>\n",
       "      <td>SW-Dirty Alley</td>\n",
       "      <td>Solid Waste                                   ...</td>\n",
       "      <td>2017-01-01</td>\n",
       "      <td>Closed</td>\n",
       "      <td>2017-01-08</td>\n",
       "      <td>2017-01-03</td>\n",
       "      <td>2700 ORLEANS ST, Baltimore City, 21224</td>\n",
       "      <td>McElderry Park</td>\n",
       "      <td>39.30</td>\n",
       "      <td>-76.58</td>\n",
       "      <td>SOUTHEAST</td>\n",
       "      <td>2017</td>\n",
       "      <td>-5.0</td>\n",
       "      <td>1</td>\n",
       "    </tr>\n",
       "    <tr>\n",
       "      <th>221788</th>\n",
       "      <td>17-00000405</td>\n",
       "      <td>SW-Dirty Street</td>\n",
       "      <td>Solid Waste                                   ...</td>\n",
       "      <td>2017-01-01</td>\n",
       "      <td>Closed</td>\n",
       "      <td>2017-01-08</td>\n",
       "      <td>2017-01-03</td>\n",
       "      <td>SAINT PAUL ST &amp; E UNIVERSITY PKWY,  BALTIMORE</td>\n",
       "      <td>Guilford</td>\n",
       "      <td>39.33</td>\n",
       "      <td>-76.62</td>\n",
       "      <td>NORTHWEST</td>\n",
       "      <td>2017</td>\n",
       "      <td>-5.0</td>\n",
       "      <td>1</td>\n",
       "    </tr>\n",
       "  </tbody>\n",
       "</table>\n",
       "</div>"
      ],
      "text/plain": [
       "       Service Request Number          SR_Type  \\\n",
       "433409            17-00000389   SW-Dirty Alley   \n",
       "168701            17-00000161  SW-Dirty Street   \n",
       "208781            17-00000404  SW-Dirty Street   \n",
       "65957             17-00000230   SW-Dirty Alley   \n",
       "221788            17-00000405  SW-Dirty Street   \n",
       "\n",
       "                                                   Agency Created Date  \\\n",
       "433409  Solid Waste                                   ...   2017-01-01   \n",
       "168701  Solid Waste                                   ...   2017-01-01   \n",
       "208781  Solid Waste                                   ...   2017-01-01   \n",
       "65957   Solid Waste                                   ...   2017-01-01   \n",
       "221788  Solid Waste                                   ...   2017-01-01   \n",
       "\n",
       "       SR Status   Due Date Close Date  \\\n",
       "433409    Closed 2017-01-08 2017-01-03   \n",
       "168701    Closed 2017-01-08 2017-01-03   \n",
       "208781    Closed 2017-01-08 2017-01-03   \n",
       "65957     Closed 2017-01-08 2017-01-03   \n",
       "221788    Closed 2017-01-08 2017-01-03   \n",
       "\n",
       "                                       Street Address  \\\n",
       "433409        3000 WOLCOTT AVE, Baltimore City, 21216   \n",
       "168701          1032 E 36TH ST, Baltimore City, 21218   \n",
       "208781           YORK RD & WOODBOURNE AVE,  BALTIMORE   \n",
       "65957          2700 ORLEANS ST, Baltimore City, 21224   \n",
       "221788  SAINT PAUL ST & E UNIVERSITY PKWY,  BALTIMORE   \n",
       "\n",
       "                             Neighborhood  Latitude  Longitude geo_sw_quad  \\\n",
       "433409  Concerned Citizens Of Forest Park     39.32     -76.68   NORTHWEST   \n",
       "168701             Ednor Gardens-Lakeside     39.33     -76.60   NORTHEAST   \n",
       "208781                         Mid-Govans     39.36     -76.61   NORTHWEST   \n",
       "65957                      McElderry Park     39.30     -76.58   SOUTHEAST   \n",
       "221788                           Guilford     39.33     -76.62   NORTHWEST   \n",
       "\n",
       "        year  past_due  ontime  \n",
       "433409  2017      -5.0       1  \n",
       "168701  2017      -5.0       1  \n",
       "208781  2017      -5.0       1  \n",
       "65957   2017      -5.0       1  \n",
       "221788  2017      -5.0       1  "
      ]
     },
     "execution_count": 10,
     "metadata": {},
     "output_type": "execute_result"
    }
   ],
   "source": [
    "df['ontime'] = np.where(df['Close Date'] <= df['Due Date'], 1, 0)\n",
    "df.head()\n",
    "\n",
    "df = df.sort_values(by='Created Date')\n",
    "df.head()"
   ]
  },
  {
   "cell_type": "code",
   "execution_count": 11,
   "metadata": {},
   "outputs": [
    {
     "data": {
      "text/plain": [
       "<AxesSubplot:title={'center':'On-Time Percentage (90-day Rolling Average)'}, xlabel='Date', ylabel='Percent'>"
      ]
     },
     "execution_count": 11,
     "metadata": {},
     "output_type": "execute_result"
    },
    {
     "data": {
      "image/png": "[encoded data removed]",
      "text/plain": [
       "<Figure size 864x576 with 1 Axes>"
      ]
     },
     "metadata": {
      "needs_background": "light"
     },
     "output_type": "display_data"
    }
   ],
   "source": [
    "df['MA'] = df['ontime'].rolling(window=90).mean()\n",
    "df.head(91)\n",
    "df.plot('Created Date', 'MA',figsize=(12, 8), title = \"On-Time Percentage (90-day Rolling Average)\", ylabel = \"Percent\",\n",
    "       xlabel = \"Date\", legend = False)"
   ]
  },
  {
   "cell_type": "code",
   "execution_count": 50,
   "metadata": {},
   "outputs": [
    {
     "name": "stdout",
     "output_type": "stream",
     "text": [
      "0.499111159831367\n",
      "0.617174089068826\n"
     ]
    }
   ],
   "source": [
    "df_2019.groupby(['SR_Type'])['past_due'].mean()\n",
    "print(df_2019['MA'].mean())\n",
    "df_2018 = df.loc[df['Created Date'].between(\"2018-01-01\", \"2018-12-31\")]\n",
    "print(df_2018['MA'].mean())"
   ]
  },
  {
   "cell_type": "code",
   "execution_count": 13,
   "metadata": {},
   "outputs": [
    {
     "data": {
      "text/plain": [
       "(array([0, 1, 2, 3, 4]),\n",
       " [Text(0, 0, 'SW-Boarding'),\n",
       "  Text(1, 0, 'SW-Cleaning'),\n",
       "  Text(2, 0, 'SW-Dirty Alley'),\n",
       "  Text(3, 0, 'SW-Dirty Street'),\n",
       "  Text(4, 0, 'SW-HGW')])"
      ]
     },
     "execution_count": 13,
     "metadata": {},
     "output_type": "execute_result"
    },
    {
     "data": {
      "image/png": "[encoded data removed]",
      "text/plain": [
       "<Figure size 720x432 with 1 Axes>"
      ]
     },
     "metadata": {
      "needs_background": "light"
     },
     "output_type": "display_data"
    }
   ],
   "source": [
    "\n",
    "df_pivot = pd.pivot_table(\n",
    "    df,\n",
    "    values=\"past_due\",\n",
    "    index=\"SR_Type\",\n",
    "    columns=\"year\",\n",
    "    aggfunc=np.mean\n",
    ")\n",
    "\n",
    "# Plot a bar chart using the DF\n",
    "ax = df_pivot.plot(kind=\"bar\")\n",
    "fig = ax.get_figure()\n",
    "fig.set_size_inches(10, 6)\n",
    "ax.set_xlabel(\"Service Type\")\n",
    "ax.set_ylabel(\"Days\")\n",
    "plt.title(\"Average Days Closed Past Due Date\")\n",
    "plt.xticks(rotation='horizontal')"
   ]
  },
  {
   "cell_type": "code",
   "execution_count": 36,
   "metadata": {
    "scrolled": true
   },
   "outputs": [
    {
     "name": "stdout",
     "output_type": "stream",
     "text": [
      "0.5008427081763247\n"
     ]
    }
   ],
   "source": [
    "df_2019 = df.loc[df['Created Date'].between(\"2019-01-01\", \"2019-12-31\")]\n",
    "df_2019.head()\n",
    "\n",
    "print(1- df_2019['ontime'].mean())"
   ]
  },
  {
   "cell_type": "code",
   "execution_count": 35,
   "metadata": {},
   "outputs": [
    {
     "name": "stdout",
     "output_type": "stream",
     "text": [
      "0.3187189914064248\n"
     ]
    }
   ],
   "source": [
    "df_pre2019 = df.loc[df['Created Date'].between(\"2017-01-01\", \"2018-12-31\")]\n",
    "print(1 - df_pre2019['ontime'].mean())"
   ]
  },
  {
   "cell_type": "code",
   "execution_count": 53,
   "metadata": {},
   "outputs": [],
   "source": [
    "import seaborn as sns\n",
    "data = {'Time': ['2017 to 2018', '2019'], 'Percent': [0.3187, 0.5008]}\n",
    "plot_df = pd.DataFrame(data)\n"
   ]
  },
  {
   "cell_type": "code",
   "execution_count": 54,
   "metadata": {},
   "outputs": [
    {
     "data": {
      "image/png": "[encoded data removed]",
      "text/plain": [
       "<Figure size 432x288 with 1 Axes>"
      ]
     },
     "metadata": {
      "needs_background": "light"
     },
     "output_type": "display_data"
    }
   ],
   "source": [
    "fig, ax = plt.subplots()\n",
    "sns.barplot(data = plot_df, x = 'Time', y = 'Percent', ax=ax).set(title='Late Services Percentage')\n",
    "ax.set_ylim(0,1)\n",
    "plt.show()"
   ]
  },
  {
   "cell_type": "code",
   "execution_count": 18,
   "metadata": {
    "scrolled": true
   },
   "outputs": [
    {
     "name": "stdout",
     "output_type": "stream",
     "text": [
      "SR_Type\n",
      "SW-Boarding        0.605866\n",
      "SW-Cleaning        0.622257\n",
      "SW-Dirty Alley     0.795244\n",
      "SW-Dirty Street    0.901915\n",
      "SW-HGW             0.400732\n",
      "Name: ontime, dtype: float64\n"
     ]
    },
    {
     "data": {
      "text/plain": [
       "(0.0, 1.0)"
      ]
     },
     "execution_count": 18,
     "metadata": {},
     "output_type": "execute_result"
    },
    {
     "data": {
      "image/png": "[encoded data removed]",
      "text/plain": [
       "<Figure size 720x432 with 1 Axes>"
      ]
     },
     "metadata": {
      "needs_background": "light"
     },
     "output_type": "display_data"
    }
   ],
   "source": [
    "print(df_pre2019.groupby(['SR_Type'])['ontime'].mean())\n",
    "service_pre2019 = df_pre2019.groupby(['SR_Type'])['ontime'].mean().sort_values()\n",
    "service_pre2019.plot(kind='bar', title='Services Completed On-Time (2017-2018)',\n",
    "               ylabel='Percent', xlabel='Service Type', figsize=(10, 6), color = \"green\")\n",
    "plt.xticks(rotation='horizontal')\n",
    "plt.ylim((0,1))"
   ]
  },
  {
   "cell_type": "code",
   "execution_count": 19,
   "metadata": {},
   "outputs": [
    {
     "name": "stdout",
     "output_type": "stream",
     "text": [
      "SR_Type\n",
      "SW-Boarding        0.734211\n",
      "SW-Cleaning        0.345841\n",
      "SW-Dirty Alley     0.429082\n",
      "SW-Dirty Street    0.635842\n",
      "SW-HGW             0.469189\n",
      "Name: ontime, dtype: float64\n"
     ]
    },
    {
     "data": {
      "text/plain": [
       "(0.0, 1.0)"
      ]
     },
     "execution_count": 19,
     "metadata": {},
     "output_type": "execute_result"
    },
    {
     "data": {
      "image/png": "[encoded data removed]",
      "text/plain": [
       "<Figure size 720x432 with 1 Axes>"
      ]
     },
     "metadata": {
      "needs_background": "light"
     },
     "output_type": "display_data"
    }
   ],
   "source": [
    "print(df_2019.groupby(['SR_Type'])['ontime'].mean())\n",
    "service_2019 = df_2019.groupby(['SR_Type'])['ontime'].mean().sort_values()\n",
    "service_2019.plot(kind='bar', title='Services Completed On-Time in 2019',\n",
    "               ylabel='Percent', xlabel='Service Type', figsize=(10, 6), color = \"green\")\n",
    "plt.xticks(rotation='horizontal')\n",
    "plt.ylim((0,1))"
   ]
  },
  {
   "cell_type": "code",
   "execution_count": 20,
   "metadata": {},
   "outputs": [
    {
     "data": {
      "text/plain": [
       "(array([0, 1, 2, 3, 4]),\n",
       " [Text(0, 0, 'SW-Boarding'),\n",
       "  Text(1, 0, 'SW-Cleaning'),\n",
       "  Text(2, 0, 'SW-Dirty Alley'),\n",
       "  Text(3, 0, 'SW-Dirty Street'),\n",
       "  Text(4, 0, 'SW-HGW')])"
      ]
     },
     "execution_count": 20,
     "metadata": {},
     "output_type": "execute_result"
    },
    {
     "data": {
      "image/png": "[encoded data removed]",
      "text/plain": [
       "<Figure size 720x432 with 1 Axes>"
      ]
     },
     "metadata": {
      "needs_background": "light"
     },
     "output_type": "display_data"
    }
   ],
   "source": [
    "df_pivot = pd.pivot_table(\n",
    "    df,\n",
    "    values=\"ontime\",\n",
    "    index=\"SR_Type\",\n",
    "    columns=\"year\",\n",
    "    aggfunc=np.mean\n",
    ")\n",
    "\n",
    "# Plot a bar chart using the DF\n",
    "ax = df_pivot.plot(kind=\"bar\")\n",
    "# Get a Matplotlib figure from the axes object for formatting purposes\n",
    "fig = ax.get_figure()\n",
    "# Change the plot dimensions (width, height)\n",
    "fig.set_size_inches(10, 6)\n",
    "# Change the axes labels\n",
    "ax.set_xlabel(\"Service Type\")\n",
    "ax.set_ylabel(\"Percent\")\n",
    "plt.title(\"On-Time Completion Percentage\")\n",
    "plt.xticks(rotation='horizontal')"
   ]
  },
  {
   "cell_type": "code",
   "execution_count": 21,
   "metadata": {},
   "outputs": [
    {
     "name": "stdout",
     "output_type": "stream",
     "text": [
      "0.000\n"
     ]
    },
    {
     "data": {
      "text/plain": [
       "(-83.40795472605156, 0.0)"
      ]
     },
     "execution_count": 21,
     "metadata": {},
     "output_type": "execute_result"
    }
   ],
   "source": [
    "from statsmodels.stats.proportion import proportions_ztest\n",
    "count_2019 = df_2019['ontime'].sum()\n",
    "count_pre2019 = df_pre2019['ontime'].sum()\n",
    "nobs_2019 = df_2019['ontime'].count()\n",
    "nobs_pre2019 = df_pre2019['ontime'].count()\n",
    "count = np.array([count_2019, count_pre2019])\n",
    "nobs = np.array([nobs_2019, nobs_pre2019])\n",
    "stat, pval = proportions_ztest(count, nobs)\n",
    "print('{0:0.3f}'.format(pval))\n",
    "\n",
    "\n",
    "proportions_ztest(count, nobs)"
   ]
  },
  {
   "cell_type": "code",
   "execution_count": 56,
   "metadata": {},
   "outputs": [
    {
     "name": "stdout",
     "output_type": "stream",
     "text": [
      "Neighborhood                 SR_Type         geo_sw_quad\n",
      "Broadway East                SW-HGW          SOUTHEAST      5518\n",
      "McElderry Park               SW-Dirty Alley  SOUTHEAST      3369\n",
      "Central Park Heights         SW-HGW          NORTHWEST      3160\n",
      "Broadway East                SW-Cleaning     SOUTHEAST      2760\n",
      "Patterson Park Neighborhood  SW-Dirty Alley  SOUTHEAST      2630\n",
      "Belair-Edison                SW-Dirty Alley  NORTHEAST      2628\n",
      "Ellwood Park/Monument        SW-Dirty Alley  SOUTHEAST      2600\n",
      "Sandtown-Winchester          SW-HGW          SOUTHWEST      2209\n",
      "Oliver                       SW-HGW          SOUTHEAST      2195\n",
      "Harlem Park                  SW-HGW          SOUTHWEST      2122\n",
      "Name: ontime, dtype: int64\n",
      "Neighborhood                               geo_sw_quad\n",
      "Jonestown,Penn-Fallsway                    SOUTHEAST      1.000000\n",
      "Orangeville Industrial Area,Belair-Edison  SOUTHEAST      1.000000\n",
      "Hunting Ridge,West Hills                   SOUTHWEST      1.000000\n",
      "Bolton Hill,Mid-Town Belvedere             SOUTHEAST      1.000000\n",
      "Bolton Hill,Reservoir Hill                 SOUTHEAST      1.000000\n",
      "                                                            ...   \n",
      "Biddle Street                              SOUTHEAST      0.822727\n",
      "Better Waverly                             NORTHWEST      0.818182\n",
      "Middle East                                SOUTHEAST      0.815046\n",
      "Moravia-Walther                            NORTHEAST      0.813559\n",
      "New Northwood                              NORTHEAST      0.812081\n",
      "Name: ontime, Length: 100, dtype: float64\n"
     ]
    }
   ],
   "source": [
    "print(df.groupby(['Neighborhood', 'SR_Type', 'geo_sw_quad'])['ontime'].count().sort_values(ascending = False).head(10))\n",
    "print(df.groupby(['Neighborhood', 'geo_sw_quad'])['ontime'].mean().sort_values(ascending = False).head(100))"
   ]
  },
  {
   "cell_type": "code",
   "execution_count": 23,
   "metadata": {},
   "outputs": [
    {
     "name": "stdout",
     "output_type": "stream",
     "text": [
      "Street Address                               geo_sw_quad\n",
      "5225 YORK RD, Baltimore City, 21212          NORTHEAST      1120\n",
      "3939 REISTERSTOWN RD, Baltimore City, 21215  NORTHWEST       817\n",
      "417 E FAYETTE ST, Baltimore City, 21202      CENTRAL         436\n",
      "3411 BANK ST, Baltimore City, 21224          SOUTHEAST       279\n",
      "417 W FAYETTE ST, Baltimore City, 21201      CENTRAL         139\n",
      "1901 HARMAN AVE, Baltimore City              SOUTHWEST        99\n",
      "600 N CURLEY ST, Baltimore City, 21205       SOUTHEAST        98\n",
      "3328 NOBLE ST, Baltimore City, 21224         SOUTHEAST        97\n",
      "530 N KENWOOD AVE, Baltimore City, 21205     SOUTHEAST        97\n",
      "401 S VINCENT ST, Baltimore City, 21223      SOUTHWEST        78\n",
      "Name: ontime, dtype: int64\n"
     ]
    }
   ],
   "source": [
    "print(df.groupby(['Street Address',  'geo_sw_quad'])['ontime'].count().sort_values(ascending = False).head(10))"
   ]
  },
  {
   "cell_type": "code",
   "execution_count": 24,
   "metadata": {},
   "outputs": [
    {
     "name": "stdout",
     "output_type": "stream",
     "text": [
      "285\n",
      "129\n",
      "175\n",
      "247\n",
      "188\n"
     ]
    }
   ],
   "source": [
    "df_2019.describe()\n",
    "df_2019_board = df_2019.loc[df_2019['SR_Type']== 'SW-Boarding']\n",
    "df_2019_clean = df_2019.loc[df_2019['SR_Type']== 'SW-Cleaning']\n",
    "df_2019_da = df_2019.loc[df_2019['SR_Type']== 'SW-Dirty Alley']\n",
    "df_2019_ds = df_2019.loc[df_2019['SR_Type']== 'SW-Dirty Street']\n",
    "df_2019_hgw = df_2019.loc[df_2019['SR_Type']== 'SW-HGW']\n",
    "\n",
    "board = df_2019_board.sample(replace = True, n = 383)\n",
    "clean = df_2019_clean.sample(replace = True, n = 383)\n",
    "da = df_2019_da.sample(replace = True, n = 383)\n",
    "ds = df_2019_ds.sample(replace = True, n = 383)\n",
    "hgw = df_2019_hgw.sample(replace = True, n = 383)\n",
    "\n",
    "board_ct = board['ontime'].sum()\n",
    "clean_ct = clean['ontime'].sum()\n",
    "da_ct = da['ontime'].sum()\n",
    "ds_ct = ds['ontime'].sum()\n",
    "hgw_ct = hgw['ontime'].sum()\n",
    "\n",
    "board_prop = board['ontime'].mean()\n",
    "clean_prop = clean['ontime'].mean()\n",
    "da_prop = da['ontime'].mean()\n",
    "ds_prop = ds['ontime'].mean()\n",
    "hgw_prop = hgw['ontime'].mean()\n",
    "\n",
    "x = np.array([board_ct, clean_ct, da_ct, ds_ct, hgw_ct])\n",
    "nob = np.array([383, 383,383, 383, 383])\n",
    "\n",
    "\n",
    "print(board['ontime'].sum())\n",
    "print(clean['ontime'].sum())\n",
    "print(da['ontime'].sum())\n",
    "print(ds['ontime'].sum())\n",
    "print(hgw['ontime'].sum())\n"
   ]
  },
  {
   "cell_type": "code",
   "execution_count": 25,
   "metadata": {},
   "outputs": [
    {
     "name": "stdout",
     "output_type": "stream",
     "text": [
      "chi test statistic of this experiment is:  390146.6736292428\n",
      "P value of this experiment is:  0.0\n"
     ]
    }
   ],
   "source": [
    "\n",
    "p1 = np.array([board_prop, clean_prop, da_prop, ds_prop, hgw_prop])\n",
    "\n",
    "from scipy.stats import chisquare\n",
    "total = 99 + 36 + 48 + 9\n",
    "chi_square, p = chisquare(x, f_exp=p1)\n",
    "print('chi test statistic of this experiment is: ', chi_square)\n",
    "print('P value of this experiment is: ', p)"
   ]
  },
  {
   "cell_type": "code",
   "execution_count": 26,
   "metadata": {},
   "outputs": [
    {
     "name": "stdout",
     "output_type": "stream",
     "text": [
      "0.0\n"
     ]
    }
   ],
   "source": [
    "from scipy.stats import chi2_contingency\n",
    "contingency_table = pd.crosstab(df_2019.ontime,df_2019.SR_Type)\n",
    "contingency_table\n",
    "\n",
    "c, p, dof, expected = chi2_contingency(contingency_table) \n",
    "# Print the p-value\n",
    "print(p)"
   ]
  }
 ],
 "metadata": {
  "kernelspec": {
   "display_name": "Python 3",
   "language": "python",
   "name": "python3"
  },
  "language_info": {
   "codemirror_mode": {
    "name": "ipython",
    "version": 3
   },
   "file_extension": ".py",
   "mimetype": "text/x-python",
   "name": "python",
   "nbconvert_exporter": "python",
   "pygments_lexer": "ipython3",
   "version": "3.8.5"
  }
 },
 "nbformat": 4,
 "nbformat_minor": 4
}
